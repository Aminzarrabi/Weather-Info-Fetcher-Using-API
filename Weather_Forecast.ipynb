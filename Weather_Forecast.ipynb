{
 "cells": [
  {
   "cell_type": "code",
   "execution_count": 17,
   "id": "147bd8bf-a1da-4bdb-b2ce-3b10a47e3414",
   "metadata": {},
   "outputs": [],
   "source": [
    "import pandas as pd\n",
    "import requests\n",
    "# Api From https://weatherstack.com"
   ]
  },
  {
   "cell_type": "code",
   "execution_count": 18,
   "id": "df0abb00-a108-4e07-adc3-7bb9b9c53a2c",
   "metadata": {},
   "outputs": [],
   "source": [
    "api_key = 'd863a0cdf5aa8063ea583764616a9bf7'\n",
    "def main() :\n",
    "    df = pd.DataFrame( columns=['Country Name', 'City Name', 'Local Time', 'Temperature', 'Feelslike', 'Wind Speed', 'Humidity'])\n",
    "    n = int(input('Number Of Cities : '))\n",
    "    for i in range(n):\n",
    "        cname = str(input('City Name : '))\n",
    "        url = f\"https://api.weatherstack.com/current?access_key={api_key}&query={cname}\"\n",
    "        response = requests.get(url)\n",
    "        if response.status_code == 200 :\n",
    "            data = response.json()\n",
    "            country_name = data['location']['country']\n",
    "            city_name = data['location']['name']\n",
    "            localtime = data['location']['localtime']\n",
    "            temp = data['current']['temperature']\n",
    "            feelslike = data['current']['feelslike']\n",
    "            wind_speed = data['current']['wind_speed']\n",
    "            humidity = data['current']['humidity']\n",
    "            new_row = pd.DataFrame([[country_name,city_name,localtime,temp,feelslike,wind_speed,humidity]],\n",
    "                       columns=['Country Name', 'City Name', 'Local Time', 'Temperature', 'Feelslike', 'Wind Speed', 'Humidity'])\n",
    "            df = pd.concat([df, new_row], ignore_index=True)\n",
    "        else : \n",
    "            print(\"Error\")    \n",
    "    return df"
   ]
  },
  {
   "cell_type": "code",
   "execution_count": 19,
   "id": "cdac4b42-de3d-4f29-8def-1780ee9d339b",
   "metadata": {},
   "outputs": [
    {
     "name": "stdin",
     "output_type": "stream",
     "text": [
      "Number Of Cities :  3\n",
      "City Name :  dallas\n",
      "City Name :  munich\n",
      "City Name :  paris\n"
     ]
    },
    {
     "data": {
      "text/html": [
       "<div>\n",
       "<style scoped>\n",
       "    .dataframe tbody tr th:only-of-type {\n",
       "        vertical-align: middle;\n",
       "    }\n",
       "\n",
       "    .dataframe tbody tr th {\n",
       "        vertical-align: top;\n",
       "    }\n",
       "\n",
       "    .dataframe thead th {\n",
       "        text-align: right;\n",
       "    }\n",
       "</style>\n",
       "<table border=\"1\" class=\"dataframe\">\n",
       "  <thead>\n",
       "    <tr style=\"text-align: right;\">\n",
       "      <th></th>\n",
       "      <th>Country Name</th>\n",
       "      <th>City Name</th>\n",
       "      <th>Local Time</th>\n",
       "      <th>Temperature</th>\n",
       "      <th>Feelslike</th>\n",
       "      <th>Wind Speed</th>\n",
       "      <th>Humidity</th>\n",
       "    </tr>\n",
       "  </thead>\n",
       "  <tbody>\n",
       "    <tr>\n",
       "      <th>0</th>\n",
       "      <td>United States of America</td>\n",
       "      <td>Dallas</td>\n",
       "      <td>2025-05-12 00:51</td>\n",
       "      <td>19</td>\n",
       "      <td>19</td>\n",
       "      <td>5</td>\n",
       "      <td>70</td>\n",
       "    </tr>\n",
       "    <tr>\n",
       "      <th>1</th>\n",
       "      <td>Germany</td>\n",
       "      <td>Munich</td>\n",
       "      <td>2025-05-12 07:52</td>\n",
       "      <td>8</td>\n",
       "      <td>7</td>\n",
       "      <td>8</td>\n",
       "      <td>87</td>\n",
       "    </tr>\n",
       "    <tr>\n",
       "      <th>2</th>\n",
       "      <td>France</td>\n",
       "      <td>Paris</td>\n",
       "      <td>2025-05-12 07:52</td>\n",
       "      <td>14</td>\n",
       "      <td>14</td>\n",
       "      <td>8</td>\n",
       "      <td>88</td>\n",
       "    </tr>\n",
       "  </tbody>\n",
       "</table>\n",
       "</div>"
      ],
      "text/plain": [
       "               Country Name City Name        Local Time Temperature Feelslike  \\\n",
       "0  United States of America    Dallas  2025-05-12 00:51          19        19   \n",
       "1                   Germany    Munich  2025-05-12 07:52           8         7   \n",
       "2                    France     Paris  2025-05-12 07:52          14        14   \n",
       "\n",
       "  Wind Speed Humidity  \n",
       "0          5       70  \n",
       "1          8       87  \n",
       "2          8       88  "
      ]
     },
     "execution_count": 19,
     "metadata": {},
     "output_type": "execute_result"
    }
   ],
   "source": [
    "Forecast = main()\n",
    "Forecast"
   ]
  }
 ],
 "metadata": {
  "kernelspec": {
   "display_name": "qenv",
   "language": "python",
   "name": "qenv"
  },
  "language_info": {
   "codemirror_mode": {
    "name": "ipython",
    "version": 3
   },
   "file_extension": ".py",
   "mimetype": "text/x-python",
   "name": "python",
   "nbconvert_exporter": "python",
   "pygments_lexer": "ipython3",
   "version": "3.9.7"
  }
 },
 "nbformat": 4,
 "nbformat_minor": 5
}
