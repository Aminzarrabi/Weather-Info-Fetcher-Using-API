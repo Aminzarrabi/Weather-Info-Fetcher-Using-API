{
 "cells": [
  {
   "cell_type": "code",
   "execution_count": 1,
   "id": "147bd8bf-a1da-4bdb-b2ce-3b10a47e3414",
   "metadata": {},
   "outputs": [],
   "source": [
    "import pandas as pd\n",
    "import requests\n",
    "# Api From https://weatherstack.com"
   ]
  },
  {
   "cell_type": "code",
   "execution_count": 3,
   "id": "df0abb00-a108-4e07-adc3-7bb9b9c53a2c",
   "metadata": {},
   "outputs": [],
   "source": [
    "api_key = 'd863a0cdf5aa8063ea583764616a9bf7'\n",
    "def main() :\n",
    "    df = pd.DataFrame( columns=['Country Name', 'City Name', 'Local Time', 'Temperature', 'Feelslike', 'Wind Speed', 'Humidity'])\n",
    "    n = int(input('Number Of Cities : '))\n",
    "    for i in range(n):\n",
    "        cname = str(input('City Name : '))\n",
    "        url = f\"https://api.weatherstack.com/current?access_key={api_key}&query={cname}\"\n",
    "        response = requests.get(url)\n",
    "        if response.status_code == 200 :\n",
    "            data = response.json()\n",
    "            country_name = data['location']['country']\n",
    "            city_name = data['location']['name']\n",
    "            localtime = data['location']['localtime']\n",
    "            temp = data['current']['temperature']\n",
    "            feelslike = data['current']['feelslike']\n",
    "            wind_speed = data['current']['wind_speed']\n",
    "            humidity = data['current']['humidity']\n",
    "            new_row = pd.DataFrame([[country_name,city_name,localtime,temp,feelslike,wind_speed,humidity]],\n",
    "                       columns=['Country Name', 'City Name', 'Local Time', 'Temperature', 'Feelslike', 'Wind Speed', 'Humidity'])\n",
    "            df = pd.concat([df, new_row], ignore_index=True)\n",
    "        else : \n",
    "            print(\"Error\")    \n",
    "    return df"
   ]
  },
  {
   "cell_type": "code",
   "execution_count": 5,
   "id": "cdac4b42-de3d-4f29-8def-1780ee9d339b",
   "metadata": {},
   "outputs": [
    {
     "data": {
      "text/html": [
       "<div>\n",
       "<style scoped>\n",
       "    .dataframe tbody tr th:only-of-type {\n",
       "        vertical-align: middle;\n",
       "    }\n",
       "\n",
       "    .dataframe tbody tr th {\n",
       "        vertical-align: top;\n",
       "    }\n",
       "\n",
       "    .dataframe thead th {\n",
       "        text-align: right;\n",
       "    }\n",
       "</style>\n",
       "<table border=\"1\" class=\"dataframe\">\n",
       "  <thead>\n",
       "    <tr style=\"text-align: right;\">\n",
       "      <th></th>\n",
       "      <th>Country Name</th>\n",
       "      <th>City Name</th>\n",
       "      <th>Local Time</th>\n",
       "      <th>Temperature</th>\n",
       "      <th>Feelslike</th>\n",
       "      <th>Wind Speed</th>\n",
       "      <th>Humidity</th>\n",
       "    </tr>\n",
       "  </thead>\n",
       "  <tbody>\n",
       "    <tr>\n",
       "      <th>0</th>\n",
       "      <td>United States of America</td>\n",
       "      <td>Dallas</td>\n",
       "      <td>2025-04-27 14:58</td>\n",
       "      <td>27</td>\n",
       "      <td>28</td>\n",
       "      <td>19</td>\n",
       "      <td>64</td>\n",
       "    </tr>\n",
       "  </tbody>\n",
       "</table>\n",
       "</div>"
      ],
      "text/plain": [
       "               Country Name City Name        Local Time Temperature Feelslike  \\\n",
       "0  United States of America    Dallas  2025-04-27 14:58          27        28   \n",
       "\n",
       "  Wind Speed Humidity  \n",
       "0         19       64  "
      ]
     },
     "execution_count": 5,
     "metadata": {},
     "output_type": "execute_result"
    }
   ],
   "source": [
    "Forecast = main()\n",
    "Forecast"
   ]
  },
  {
   "cell_type": "code",
   "execution_count": 5,
   "id": "3a6878ad-841c-4072-8b1a-0142d3e797a6",
   "metadata": {},
   "outputs": [],
   "source": [
    "api_key = 'd863a0cdf5aa8063ea583764616a9bf7'\n",
    "cname = 'Dallas'\n",
    "url = f\"https://api.weatherstack.com?access_key={api_key}&query={cname}\"\n",
    "response = requests.get(url)\n",
    "if response.status_code == 200 :\n",
    "    data = response.json()\n",
    "    print(data)"
   ]
  },
  {
   "cell_type": "code",
   "execution_count": null,
   "id": "7d1f320f-1f58-42c8-8e97-fc69fdbec956",
   "metadata": {},
   "outputs": [],
   "source": []
  }
 ],
 "metadata": {
  "kernelspec": {
   "display_name": "qenv",
   "language": "python",
   "name": "qenv"
  },
  "language_info": {
   "codemirror_mode": {
    "name": "ipython",
    "version": 3
   },
   "file_extension": ".py",
   "mimetype": "text/x-python",
   "name": "python",
   "nbconvert_exporter": "python",
   "pygments_lexer": "ipython3",
   "version": "3.9.7"
  }
 },
 "nbformat": 4,
 "nbformat_minor": 5
}
